{
 "cells": [
  {
   "cell_type": "markdown",
   "metadata": {},
   "source": [
    "# Basic Setup\n",
    "\n",
    "Let's ensure we are set up for our exercise. Let's confirm that everything is configured correctly and that we can connect to the internet and make requests!\n",
    "\n",
    "- Do I have Python installed? If so, what packages are available?\n",
    "- Can I make HTTP requests?\n",
    "- Can I install or do I already have the Anthropic SDK?"
   ]
  },
  {
   "cell_type": "code",
   "execution_count": 1,
   "metadata": {
    "vscode": {
     "languageId": "plaintext"
    }
   },
   "outputs": [
    {
     "name": "stderr",
     "output_type": "stream",
     "text": [
      "/var/folders/ys/5dlbqxh13hj8qm0w_30d7w0m0000gn/T/ipykernel_37977/78702085.py:4: DeprecationWarning: pkg_resources is deprecated as an API. See https://setuptools.pypa.io/en/latest/pkg_resources.html\n",
      "  import pkg_resources\n"
     ]
    }
   ],
   "source": [
    "import sys\n",
    "import os\n",
    "import platform\n",
    "import pkg_resources\n",
    "import http\n",
    "\n",
    "def get_installed_pkgs():\n",
    "    installed_pkgs = [f\"{dist.key} {dist.version}\" for dist in pkg_resources.working_set]\n",
    "    yield from sorted(installed_pkgs)\n",
    "\n",
    "def internet():\n",
    "    try:\n",
    "        conn = http.client.HTTPConnection(\"example.com\", timeout=5)\n",
    "        conn.request(\"GET\", \"/\")\n",
    "        response = conn.getresponse()\n",
    "        \n",
    "        if response.status:\n",
    "            conn.close()\n",
    "            return True\n",
    "        conn.close()\n",
    "        return False\n",
    "    except Exception as e:\n",
    "        print(f\"Error making internet request: {e}\") \n",
    "        return False"
   ]
  },
  {
   "cell_type": "code",
   "execution_count": 2,
   "metadata": {},
   "outputs": [
    {
     "name": "stdout",
     "output_type": "stream",
     "text": [
      "Python version: 3.13.2 (main, Feb  4 2025, 14:51:09) [Clang 16.0.0 (clang-1600.0.26.6)]\n",
      "Python executable location: /Users/megh/code/march-tcc/myenv/bin/python3.13\n",
      "Current working directory: /Users/megh/code/march-tcc\n",
      "Platform: macOS-14.6.1-arm64-arm-64bit-Mach-O\n",
      "Internet: True\n"
     ]
    }
   ],
   "source": [
    "print(f\"Python version: {sys.version}\")\n",
    "print(f\"Python executable location: {sys.executable}\")\n",
    "print(f\"Current working directory: {os.getcwd()}\")\n",
    "print(f\"Platform: {platform.platform()}\")\n",
    "print(f\"Internet: {internet()}\")"
   ]
  },
  {
   "cell_type": "code",
   "execution_count": 3,
   "metadata": {},
   "outputs": [
    {
     "name": "stdout",
     "output_type": "stream",
     "text": [
      "Installed packages:\n",
      "- annotated-types 0.7.0\n",
      "- anthropic 0.49.0\n",
      "- anyio 4.9.0\n",
      "- appnope 0.1.4\n",
      "- argon2-cffi 23.1.0\n",
      "- argon2-cffi-bindings 21.2.0\n",
      "- arrow 1.3.0\n",
      "- asttokens 3.0.0\n",
      "- async-lru 2.0.5\n",
      "- asyncio 3.4.3\n",
      "- attrs 25.3.0\n",
      "- autocommand 2.2.2\n",
      "- babel 2.17.0\n",
      "- backports.tarfile 1.2.0\n",
      "- beautifulsoup4 4.13.3\n",
      "- bleach 6.2.0\n",
      "- certifi 2025.1.31\n",
      "- cffi 1.17.1\n",
      "- charset-normalizer 3.4.1\n",
      "- click 8.1.8\n",
      "- comm 0.2.2\n",
      "- debugpy 1.8.13\n",
      "- decorator 5.2.1\n",
      "- defusedxml 0.7.1\n",
      "- distro 1.9.0\n",
      "- executing 2.2.0\n",
      "- fastjsonschema 2.21.1\n",
      "- feedparser 6.0.11\n",
      "- filelock 3.18.0\n",
      "- fqdn 1.5.1\n",
      "- fsspec 2025.3.0\n",
      "- greenlet 3.1.1\n",
      "- h11 0.14.0\n",
      "- httpcore 1.0.7\n",
      "- httpx 0.28.1\n",
      "- huggingface-hub 0.29.3\n",
      "- idna 3.10\n",
      "- importlib-metadata 8.0.0\n",
      "- inflect 7.3.1\n",
      "- ipykernel 6.29.5\n",
      "- ipython 9.0.2\n",
      "- ipython-pygments-lexers 1.1.1\n",
      "- isoduration 20.11.0\n",
      "- jaraco.collections 5.1.0\n",
      "- jaraco.context 5.3.0\n",
      "- jaraco.functools 4.0.1\n",
      "- jaraco.text 3.12.1\n",
      "- jedi 0.19.2\n",
      "- jinja2 3.1.6\n",
      "- jiter 0.9.0\n",
      "- joblib 1.4.2\n",
      "- json5 0.10.0\n",
      "- jsonpointer 3.0.0\n",
      "- jsonschema 4.23.0\n",
      "- jsonschema-specifications 2024.10.1\n",
      "- jupyter-client 8.6.3\n",
      "- jupyter-core 5.7.2\n",
      "- jupyter-events 0.12.0\n",
      "- jupyter-lsp 2.2.5\n",
      "- jupyter-server 2.15.0\n",
      "- jupyter-server-terminals 0.5.3\n",
      "- jupyterlab 4.3.6\n",
      "- jupyterlab-pygments 0.3.0\n",
      "- jupyterlab-server 2.27.3\n",
      "- markupsafe 3.0.2\n",
      "- matplotlib-inline 0.1.7\n",
      "- mistune 3.1.3\n",
      "- more-itertools 10.3.0\n",
      "- mpmath 1.3.0\n",
      "- nbclient 0.10.2\n",
      "- nbconvert 7.16.6\n",
      "- nbformat 5.10.4\n",
      "- nest-asyncio 1.6.0\n",
      "- networkx 3.4.2\n",
      "- notebook-shim 0.2.4\n",
      "- numpy 2.2.4\n",
      "- overrides 7.7.0\n",
      "- packaging 24.2\n",
      "- pandocfilters 1.5.1\n",
      "- parso 0.8.4\n",
      "- pexpect 4.9.0\n",
      "- pillow 11.1.0\n",
      "- pip 25.0.1\n",
      "- platformdirs 4.3.7\n",
      "- playwright 1.51.0\n",
      "- prometheus-client 0.21.1\n",
      "- prompt-toolkit 3.0.50\n",
      "- psutil 7.0.0\n",
      "- ptyprocess 0.7.0\n",
      "- pure-eval 0.2.3\n",
      "- pycparser 2.22\n",
      "- pydantic 2.10.6\n",
      "- pydantic-core 2.27.2\n",
      "- pyee 12.1.1\n",
      "- pygments 2.19.1\n",
      "- python-dateutil 2.9.0.post0\n",
      "- python-json-logger 3.3.0\n",
      "- pyyaml 6.0.2\n",
      "- pyzmq 26.3.0\n",
      "- referencing 0.36.2\n",
      "- regex 2024.11.6\n",
      "- requests 2.32.3\n",
      "- rfc3339-validator 0.1.4\n",
      "- rfc3986-validator 0.1.1\n",
      "- rpds-py 0.23.1\n",
      "- safetensors 0.5.3\n",
      "- scikit-learn 1.6.1\n",
      "- scipy 1.15.2\n",
      "- send2trash 1.8.3\n",
      "- sentence-transformers 3.4.1\n",
      "- setuptools 77.0.3\n",
      "- sgmllib3k 1.0.0\n",
      "- six 1.17.0\n",
      "- sniffio 1.3.1\n",
      "- soupsieve 2.6\n",
      "- stack-data 0.6.3\n",
      "- sympy 1.13.1\n",
      "- terminado 0.18.1\n",
      "- threadpoolctl 3.6.0\n",
      "- tinycss2 1.4.0\n",
      "- tokenizers 0.21.1\n",
      "- tomli 2.0.1\n",
      "- torch 2.6.0\n",
      "- tornado 6.4.2\n",
      "- tqdm 4.67.1\n",
      "- traitlets 5.14.3\n",
      "- transformers 4.49.0\n",
      "- typeguard 4.3.0\n",
      "- types-python-dateutil 2.9.0.20241206\n",
      "- typing-extensions 4.12.2\n",
      "- uri-template 1.3.0\n",
      "- urllib3 2.3.0\n",
      "- wayback 0.4.5\n",
      "- waybackpy 3.0.6\n",
      "- wcwidth 0.2.13\n",
      "- webcolors 24.11.1\n",
      "- webencodings 0.5.1\n",
      "- websocket-client 1.8.0\n",
      "- wheel 0.45.1\n",
      "- zipp 3.19.2\n"
     ]
    }
   ],
   "source": [
    "print(\"Installed packages:\")\n",
    "for pkg in get_installed_pkgs():\n",
    "    print(f\"- {pkg}\")"
   ]
  },
  {
   "cell_type": "markdown",
   "metadata": {},
   "source": [
    "Let's install **Anthropic SDK** if you don't have it already installed!"
   ]
  },
  {
   "cell_type": "code",
   "execution_count": 4,
   "metadata": {},
   "outputs": [
    {
     "name": "stdout",
     "output_type": "stream",
     "text": [
      "Anthropic SDK is already installed!\n"
     ]
    }
   ],
   "source": [
    "try:\n",
    "    import anthropic\n",
    "    print(\"Anthropic SDK is already installed!\")\n",
    "except ImportError:\n",
    "    print(\"Anthropic SDK is not installed!\")"
   ]
  },
  {
   "cell_type": "code",
   "execution_count": 6,
   "metadata": {},
   "outputs": [
    {
     "name": "stdout",
     "output_type": "stream",
     "text": [
      "numpy is already installed!\n"
     ]
    }
   ],
   "source": [
    "try:\n",
    "    import numpy as np\n",
    "    print(\"numpy is already installed!\")\n",
    "except ImportError:\n",
    "    print(\"numpy is not installed!\")"
   ]
  },
  {
   "cell_type": "code",
   "execution_count": 9,
   "metadata": {},
   "outputs": [
    {
     "name": "stdout",
     "output_type": "stream",
     "text": [
      "scikit-transformers is already installed!\n"
     ]
    }
   ],
   "source": [
    "try:\n",
    "    from sentence_transformers import SentenceTransformer\n",
    "    print(\"scikit-transformers is already installed!\")\n",
    "except ImportError:\n",
    "    print(\"sentence-transformers is not installed!\")"
   ]
  },
  {
   "cell_type": "code",
   "execution_count": 10,
   "metadata": {},
   "outputs": [
    {
     "name": "stdout",
     "output_type": "stream",
     "text": [
      "scikit-learn is already installed!\n"
     ]
    }
   ],
   "source": [
    "try:\n",
    "    from sklearn.metrics.pairwise import cosine_similarity\n",
    "    print(\"scikit-learn is already installed!\")\n",
    "except ImportError:\n",
    "    print(\"scikit-learn is not installed!\")"
   ]
  },
  {
   "cell_type": "code",
   "execution_count": 11,
   "metadata": {},
   "outputs": [],
   "source": [
    "# Uncomment this line to install Anthropic SDK (with break-system-packages)\n",
    "# Or install it yourself in your interpreter environment!!!\n",
    "# --------------------------------------------------------------------------\n",
    "# !pip3 install anthropic sentence-transformers numpy scikit-learn waybackpy feedparser --break-system-packages"
   ]
  },
  {
   "cell_type": "code",
   "execution_count": null,
   "metadata": {},
   "outputs": [],
   "source": []
  }
 ],
 "metadata": {
  "kernelspec": {
   "display_name": "Python 3 (ipykernel)",
   "language": "python",
   "name": "python3"
  },
  "language_info": {
   "codemirror_mode": {
    "name": "ipython",
    "version": 3
   },
   "file_extension": ".py",
   "mimetype": "text/x-python",
   "name": "python",
   "nbconvert_exporter": "python",
   "pygments_lexer": "ipython3",
   "version": "3.13.2"
  }
 },
 "nbformat": 4,
 "nbformat_minor": 4
}
